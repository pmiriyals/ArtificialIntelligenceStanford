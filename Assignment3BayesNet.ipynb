{
 "cells": [
  
  {
   "cell_type": "markdown",
   "metadata": {},
   "source": [
    "Problem (Re)Statement:\n",
    "\n",
    "* Shortness of breath (dyspnea) may be due to tuberculosis, lung cancer or bronchitis, or none of them, or more than one of them. \n",
    "* A recent visit to Asia increases the chances of tuberculosis.\n",
    "* Smoking is known to be a risk factor for both lung cancer and bronchitis. \n",
    "* A positive chest X-ray suggests either lung cancer or tuberculosis, but cannot distinguish between them"
   ]
  },
  {
   "cell_type": "markdown",
   "metadata": {},
   "source": [
    "Here is a data set to pull your model parameters from.  For all fields, 0 means False and 1 means True."
   ]
  },
  {
   "cell_type": "code",
   "execution_count": 19,
   "metadata": {},
   "outputs": [],
   "source": [
    "from pandas import *\n",
    "df = pandas.read_csv(\"asia.csv\")"
   ]
  },
  {
   "cell_type": "code",
   "execution_count": 20,
   "metadata": {},
   "outputs": [
    {
     "data": {
      "text/html": [
       "<div>\n",
       "<style scoped>\n",
       "    .dataframe tbody tr th:only-of-type {\n",
       "        vertical-align: middle;\n",
       "    }\n",
       "\n",
       "    .dataframe tbody tr th {\n",
       "        vertical-align: top;\n",
       "    }\n",
       "\n",
       "    .dataframe thead th {\n",
       "        text-align: right;\n",
       "    }\n",
       "</style>\n",
       "<table border=\"1\" class=\"dataframe\">\n",
       "  <thead>\n",
       "    <tr style=\"text-align: right;\">\n",
       "      <th></th>\n",
       "      <th>Smoker</th>\n",
       "      <th>LungCancer</th>\n",
       "      <th>VisitToAsia</th>\n",
       "      <th>Tuberculosis</th>\n",
       "      <th>XRay</th>\n",
       "      <th>Bronchitis</th>\n",
       "      <th>Dyspnea</th>\n",
       "    </tr>\n",
       "  </thead>\n",
       "  <tbody>\n",
       "    <tr>\n",
       "      <th>0</th>\n",
       "      <td>1</td>\n",
       "      <td>1</td>\n",
       "      <td>0</td>\n",
       "      <td>0</td>\n",
       "      <td>1</td>\n",
       "      <td>1</td>\n",
       "      <td>1</td>\n",
       "    </tr>\n",
       "    <tr>\n",
       "      <th>1</th>\n",
       "      <td>0</td>\n",
       "      <td>0</td>\n",
       "      <td>0</td>\n",
       "      <td>0</td>\n",
       "      <td>1</td>\n",
       "      <td>1</td>\n",
       "      <td>1</td>\n",
       "    </tr>\n",
       "    <tr>\n",
       "      <th>2</th>\n",
       "      <td>0</td>\n",
       "      <td>0</td>\n",
       "      <td>0</td>\n",
       "      <td>0</td>\n",
       "      <td>0</td>\n",
       "      <td>1</td>\n",
       "      <td>1</td>\n",
       "    </tr>\n",
       "    <tr>\n",
       "      <th>3</th>\n",
       "      <td>0</td>\n",
       "      <td>0</td>\n",
       "      <td>0</td>\n",
       "      <td>0</td>\n",
       "      <td>0</td>\n",
       "      <td>1</td>\n",
       "      <td>1</td>\n",
       "    </tr>\n",
       "    <tr>\n",
       "      <th>4</th>\n",
       "      <td>1</td>\n",
       "      <td>0</td>\n",
       "      <td>0</td>\n",
       "      <td>0</td>\n",
       "      <td>0</td>\n",
       "      <td>1</td>\n",
       "      <td>0</td>\n",
       "    </tr>\n",
       "  </tbody>\n",
       "</table>\n",
       "</div>"
      ],
      "text/plain": [
       "   Smoker  LungCancer  VisitToAsia  Tuberculosis  XRay  Bronchitis  Dyspnea\n",
       "0       1           1            0             0     1           1        1\n",
       "1       0           0            0             0     1           1        1\n",
       "2       0           0            0             0     0           1        1\n",
       "3       0           0            0             0     0           1        1\n",
       "4       1           0            0             0     0           1        0"
      ]
     },
     "execution_count": 20,
     "metadata": {},
     "output_type": "execute_result"
    }
   ],
   "source": [
    "df.head()"
   ]
  },
  {
   "cell_type": "markdown",
   "metadata": {},
   "source": [
    "<image src=\"asia.gif\" size=200/>"
   ]
  },
  {
   "cell_type": "markdown",
   "metadata": {},
   "source": [
    "<image src=\"asia.gif\"/>\n"
   ]
  },
  {
   "cell_type": "markdown",
   "metadata": {},
   "source": [
    "Begin by writing out your model.  For example here are names of some nodes, and the arcs that connect them.  The arrow -> means a parent/child relationship\n",
    "\n",
    "<pre>\n",
    "Asia                                   -> Tuberculosis\n",
    "\n",
    "Smoking                                -> LungCancer, Bronchitis\n",
    "\n",
    "Tuberculosis, LungCancer               -> TuberculosisORLungCancer\n",
    "\n",
    "TuberculosisORLungCancer               -> X-ray\n",
    "\n",
    "TuberculosisORLungCancer, Bronchitis   -> Dyspnea\n",
    "\n",
    "</pre>"
   ]
  },
  {
   "cell_type": "markdown",
   "metadata": {},
   "source": [
    "<span style=\"color:red\">\n",
    "Informally write your model in this cell -- using the notation above. \n",
    "It will determine the parameters you will need to get from the data set\n",
    "</span>"
   ]
  },
  {
   "cell_type": "code",
   "execution_count": 33,
   "metadata": {},
   "outputs": [],
   "source": [
    "from pomegranate import *\n",
    "\n",
    "asiaCounts = {}\n",
    "avc = (df.VisitToAsia.value_counts() / len(df.VisitToAsia))\n",
    "for i in range(0, 2):\n",
    "    asiaCounts[i] = avc[i]\n",
    "    \n",
    "smokerCounts = {}\n",
    "svc = (df.Smoker.value_counts() / len(df.Smoker))\n",
    "for i in range(0, 2):\n",
    "    smokerCounts[i] = svc[i]\n",
    "    \n",
    "tuberculosisCPT = []\n",
    "tuberculosisCounts = pandas.crosstab(df.Tuberculosis, df.VisitToAsia, normalize='columns')\n",
    "\n",
    "for asia in range(0, 2):\n",
    "    for tub in range(0, 2):\n",
    "        tuberculosisCPT.append([asia, tub, tuberculosisCounts[asia][tub]])\n",
    "    \n",
    "lungCancerCPT = []\n",
    "lungCancerCounts = pandas.crosstab(df.LungCancer, df.Smoker, normalize='columns')\n",
    "\n",
    "for smoker in range(0, 2):\n",
    "    for lung in range(0, 2):\n",
    "        lungCancerCPT.append([smoker, lung, lungCancerCounts[smoker][lung]])\n",
    "        \n",
    "bronchitisCPT = []\n",
    "bronchitisCounts = pandas.crosstab(df.Bronchitis, df.Smoker, normalize='columns')\n",
    "\n",
    "for smoker in range(0, 2):\n",
    "    for bron in range(0, 2):\n",
    "        bronchitisCPT.append([smoker, bron, bronchitisCounts[smoker][bron]])\n",
    "\n",
    "xRayCPT = []\n",
    "xRayCounts = pandas.crosstab(df.XRay, [df.Tuberculosis, df.LungCancer], normalize='columns')\n",
    "for tub in range(0,2):\n",
    "    for lung in range(0,2):\n",
    "        for xray in range(0,2):\n",
    "            xRayCPT.append([tub, lung, xray, xRayCounts[tub][lung][xray]])\n",
    "\n",
    "dyspneaCPT = []\n",
    "dyspneaCounts = pandas.crosstab(df.Dyspnea, [df.Tuberculosis, df.LungCancer, df.Bronchitis], normalize='columns')\n",
    "for tub in range(0,2):\n",
    "    for lung in range(0,2):\n",
    "        for bron in range(0,2):\n",
    "            for dys in range(0,2):\n",
    "                dyspneaCPT.append([tub, lung, bron, dys, dyspneaCounts[tub][lung][bron][dys]])"
   ]
  },
  {
   "cell_type": "markdown",
   "metadata": {},
   "source": [
    "Now define your distributions\n"
   ]
  },
  {
   "cell_type": "code",
   "execution_count": 34,
   "metadata": {},
   "outputs": [],
   "source": [
    "#  All your distributions in this cell\n",
    "\n",
    "asianDist = DiscreteDistribution(asiaCounts)\n",
    "smokerDist = DiscreteDistribution(smokerCounts)\n",
    "tuberculosisDist = ConditionalProbabilityTable(tuberculosisCPT, [asianDist])   \n",
    "lungCancerDist = ConditionalProbabilityTable(lungCancerCPT, [smokerDist])       \n",
    "bronchitisDist = ConditionalProbabilityTable(bronchitisCPT, [smokerDist])\n",
    "xRayDist = ConditionalProbabilityTable(xRayCPT, [tuberculosisDist, lungCancerDist])\n",
    "dyspneaDist = ConditionalProbabilityTable(dyspneaCPT, [tuberculosisDist, lungCancerDist, bronchitisDist])\n"
   ]
  },
  {
   "cell_type": "markdown",
   "metadata": {},
   "source": [
    "Next define the nodes in your network"
   ]
  },
  {
   "cell_type": "code",
   "execution_count": 35,
   "metadata": {},
   "outputs": [],
   "source": [
    "# All your nodes in this cell\n",
    "\n",
    "asian = Node(asianDist, name=\"Asian\")\n",
    "smoker = Node(smokerDist, name=\"Smoker\")\n",
    "tuberculosis = Node(tuberculosisDist, name=\"Tuberculosis\")\n",
    "lungCancer = Node(lungCancerDist, name=\"LungCancer\")\n",
    "bronchitis = Node(bronchitisDist, name=\"Bronchitis\")\n",
    "xRay = Node(xRayDist, name=\"XRay\")\n",
    "dyspnea = Node(dyspneaDist, name=\"Dyspnea\")"
   ]
  },
  {
   "cell_type": "markdown",
   "metadata": {},
   "source": [
    "Define your model, adding states and edges"
   ]
  },
  {
   "cell_type": "code",
   "execution_count": 36,
   "metadata": {},
   "outputs": [],
   "source": [
    "# -- your model here, for example -- \n",
    "model = BayesianNetwork(\"Shortness of Breath\")\n",
    "model.add_states(asian, smoker, tuberculosis, lungCancer, bronchitis, xRay, dyspnea)\n",
    "model.add_edge(asian, tuberculosis)\n",
    "model.add_edge(tuberculosis, dyspnea)\n",
    "model.add_edge(lungCancer, dyspnea)\n",
    "model.add_edge(bronchitis, dyspnea)\n",
    "model.add_edge(smoker, lungCancer)\n",
    "model.add_edge(smoker, bronchitis)\n",
    "model.add_edge(tuberculosis, xRay)\n",
    "model.add_edge(lungCancer, xRay)\n",
    "\n",
    "model.bake()"
   ]
  },
  {
   "cell_type": "markdown",
   "metadata": {},
   "source": [
    "------------------------------------------------"
   ]
  },
  {
   "cell_type": "markdown",
   "metadata": {},
   "source": [
    "#### Questions"
   ]
  },
  {
   "cell_type": "markdown",
   "metadata": {},
   "source": [
    "1.  What is the probability that an individual in the sampled population has either lung cancer or tuberculosis or both?"
   ]
  },
  {
   "cell_type": "code",
   "execution_count": 39,
   "metadata": {},
   "outputs": [
    {
     "name": "stdout",
     "output_type": "stream",
     "text": [
      "0.06535486000000125\n"
     ]
    }
   ],
   "source": [
    "# Your calculation here\n",
    "\n",
    "# Helper\n",
    "def probDist(nodeName, model, evidence):\n",
    "    def nodeIndex(model, nodeName, probs):\n",
    "        return list(map(lambda s: s.name, model.states)).index(nodeName)\n",
    "    return model.predict_proba(evidence)[nodeIndex(model, nodeName, model)].parameters[0]\n",
    "\n",
    "hasLungCancerProb = probDist(\"LungCancer\", model, {})[1]\n",
    "hasTuberculosisProb = probDist(\"Tuberculosis\", model, {})[1]\n",
    "hasLungOrTubOrBoth = hasLungCancerProb + hasTuberculosisProb - (hasLungCancerProb * hasTuberculosisProb)\n",
    "print(hasLungOrTubOrBoth)"
   ]
  },
  {
   "cell_type": "markdown",
   "metadata": {},
   "source": [
    "<span style=\"color:red\">\n",
    "Probability for lung cancer or tuberculosis or both = 0.065\n",
    "\n",
    "Very low probability based on the sampled population\n",
    "</span>"
   ]
  },
  {
   "cell_type": "markdown",
   "metadata": {},
   "source": [
    "2.  What is the probability that an individual in the sampled population will have a positive chest X-ray?  "
   ]
  },
  {
   "cell_type": "code",
   "execution_count": 38,
   "metadata": {},
   "outputs": [
    {
     "data": {
      "text/plain": [
       "0.11052895971666489"
      ]
     },
     "execution_count": 38,
     "metadata": {},
     "output_type": "execute_result"
    }
   ],
   "source": [
    "# Your calculation here\n",
    "probDist(\"XRay\", model, {})[1]"
   ]
  },
  {
   "cell_type": "markdown",
   "metadata": {},
   "source": [
    "<span style=\"color:red\">\n",
    "Probability for a positive chest X-ray = 0.11\n",
    "</span>"
   ]
  },
  {
   "cell_type": "markdown",
   "metadata": {},
   "source": [
    "3.  What is the probability that a smoker with a positive chest X-ray has lung cancer?  Does this probability depend on whether or not the individual has visited Asia?"
   ]
  },
  {
   "cell_type": "code",
   "execution_count": 45,
   "metadata": {},
   "outputs": [
    {
     "name": "stdout",
     "output_type": "stream",
     "text": [
      "Prob of lungCancer = 0.65508, Prob of lungCancer not visisted Asia = 0.65726 and Prob of lungCancer visited Asia = 0.4859\n"
     ]
    }
   ],
   "source": [
    "# Your calculation here\n",
    "hasLungCancerSmokerWithXray = probDist(\"LungCancer\", model, {\"Smoker\" : 1, \"XRay\" : 1})[1]\n",
    "hasLungCancerSmokerWithXrayNoAsia = probDist(\"LungCancer\", model, {\"Smoker\" : 1, \"XRay\" : 1, \"Asian\" : 0})[1]\n",
    "hasLungCancerSmokerWithXrayVisistedAsia = probDist(\"LungCancer\", model, {\"Smoker\" : 1, \"XRay\" : 1, \"Asian\" : 1})[1]\n",
    "print(\"Prob of lungCancer = {0:.5}, Prob of lungCancer not visisted Asia = {1:.5} and Prob of lungCancer visited Asia = {2:.5}\".format(hasLungCancerSmokerWithXray, hasLungCancerSmokerWithXrayNoAsia, hasLungCancerSmokerWithXrayVisistedAsia))"
   ]
  },
  {
   "cell_type": "markdown",
   "metadata": {},
   "source": [
    "<span style=\"color:red\">\n",
    "Probability that a smoker with a positive chest X-ray has lung cancer = 0.655\n",
    "    \n",
    "Yes, visit to Asia can impact probability. An individual who visisted Asia with a positive X-ray can also introduces the possibility of Tuberculosis, thereby the probability of LungCancer decreases. Simialry, not visiting Asia, increases the probability of lung cancer for a smoker with positive chest XRay.\n",
    "</span>"
   ]
  },
  {
   "cell_type": "markdown",
   "metadata": {},
   "source": [
    "4.  How much does a trip to Asia affect the likelihood of an individual having Dyspnea?"
   ]
  },
  {
   "cell_type": "code",
   "execution_count": 46,
   "metadata": {},
   "outputs": [
    {
     "name": "stdout",
     "output_type": "stream",
     "text": [
      "Prob of Dyspnea without a trip to Asia 0.43,  Prob of Dyspnea with trip to Asia 0.46, change is 5.57%\n"
     ]
    }
   ],
   "source": [
    "# -- Your calculation here -- \n",
    "dyspneaProbWithNoTripToAsia = probDist(\"Dyspnea\", model, {\"Asian\" : 0})[1]\n",
    "dyspneaWithTripToAsiaProb = probDist(\"Dyspnea\", model, {\"Asian\" : 1})[1]\n",
    "change = (dyspneaWithTripToAsiaProb - dyspneaProbWithNoTripToAsia) / dyspneaProbWithNoTripToAsia\n",
    "\n",
    "print(\"Prob of Dyspnea without a trip to Asia {0:.2},  Prob of Dyspnea with trip to Asia {1:.2}, change is {2:.2%}\".format(dyspneaProbWithNoTripToAsia, dyspneaWithTripToAsiaProb, change))"
   ]
  },
  {
   "cell_type": "markdown",
   "metadata": {},
   "source": [
    "<span style=\"color:red\">\n",
    "The likelihood of an individual having Dyspnea after a trip to Asia is 5.51% greater than individual who has not visited Asia.  \n",
    "    \n",
    "    -->\n",
    "   Prob of Dyspnea without a trip to Asia 0.43,  \n",
    "   Prob of Dyspnea with trip to Asia 0.46, \n",
    "   change is 5.51%\n",
    "</span>"
   ]
  },
  {
   "cell_type": "markdown",
   "metadata": {},
   "source": [
    "5.  Suppose you are a nonsmoker individual presenting with Dyspnea and you have never been to Asia. Based on this information what are the relative likelihoods that you have (a) Tuberculosis, (b) Lung Cancer, (c) Bronchitis, or (d) none of them?"
   ]
  },
  {
   "cell_type": "code",
   "execution_count": 47,
   "metadata": {},
   "outputs": [
    {
     "name": "stdout",
     "output_type": "stream",
     "text": [
      "Prob of Tuberculosis 0.023,  Prob of LungCancer 0.022, Prob of Bronchitis 0.76, Prob of None 0.23\n"
     ]
    }
   ],
   "source": [
    "## -- Your calculation here --  \n",
    "\n",
    "hasTuberculosisProb = probDist(\"Tuberculosis\", model, {\"Smoker\" : 0, \"Dyspnea\" : 1, \"Asian\" : 0})[1]\n",
    "hasLungCancerProb = probDist(\"LungCancer\", model, {\"Smoker\" : 0, \"Dyspnea\" : 1, \"Asian\" : 0})[1]\n",
    "hasBronchitisProb = probDist(\"Bronchitis\", model, {\"Smoker\" : 0, \"Dyspnea\" : 1, \"Asian\" : 0})[1]\n",
    "NoneProb = (1 - hasTuberculosisProb) * (1 - hasLungCancerProb) * (1 - hasBronchitisProb)\n",
    "print(\"Prob of Tuberculosis {0:.2},  Prob of LungCancer {1:.2}, Prob of Bronchitis {2:.2}, Prob of None {3:.2}\".format(hasTuberculosisProb, hasLungCancerProb, hasBronchitisProb, NoneProb))"
   ]
  },
  {
   "cell_type": "markdown",
   "metadata": {},
   "source": [
    "<span style=\"color:red\">\n",
    "    The likelihood that the individual has Bronchitis is much higher than any other. Given the individual is not a smoker the chances of Tuberculosis and Lung Cancer is very low (close to 0). The second best option is the individual not having any of them.\n",
    "    \n",
    "Here are the probabilities,    \n",
    "    Tuberculosis = 0.023  ,   \n",
    "    LungCancer = 0.022    ,\n",
    "    Bronchitis = 0.76     ,\n",
    "    None = 0.23 \n",
    "    \n",
    "</span>"
   ]
  },
  {
   "cell_type": "markdown",
   "metadata": {},
   "source": [
    "6.  In your panic you have a chest XRay done, which comes out negative.   How does that change the relative likelihoods?"
   ]
  },
  {
   "cell_type": "code",
   "execution_count": 48,
   "metadata": {},
   "outputs": [
    {
     "name": "stdout",
     "output_type": "stream",
     "text": [
      "Prob of Tuberculosis 0.00055,  Prob of LungCancer 0.00069, Prob of Bronchitis 0.78, Prob of None 0.22\n"
     ]
    }
   ],
   "source": [
    "## -- Your calculation here -- \n",
    "\n",
    "hasTuberculosisProb = probDist(\"Tuberculosis\", model, {\"Smoker\" : 0, \"Dyspnea\" : 1, \"Asian\" : 0, \"XRay\" : 0})[1]\n",
    "hasLungCancerProb = probDist(\"LungCancer\", model, {\"Smoker\" : 0, \"Dyspnea\" : 1, \"Asian\" : 0, \"XRay\" : 0})[1]\n",
    "hasBronchitisProb = probDist(\"Bronchitis\", model, {\"Smoker\" : 0, \"Dyspnea\" : 1, \"Asian\" : 0, \"XRay\" : 0})[1]\n",
    "NoneProb = (1 - hasTuberculosisProb) * (1 - hasLungCancerProb) * (1 - hasBronchitisProb)\n",
    "print(\"Prob of Tuberculosis {0:.2},  Prob of LungCancer {1:.2}, Prob of Bronchitis {2:.2}, Prob of None {3:.2}\".format(hasTuberculosisProb, hasLungCancerProb, hasBronchitisProb, NoneProb))"
   ]
  },
  {
   "cell_type": "markdown",
   "metadata": {},
   "source": [
    "<span style=\"color:red\">\n",
    "Given the XRay is negative and individual is not a smoker the possibility of having Tuberculosis or LungCancer is extermely low or 0, this is further reduced compared to before.\n",
    "    \n",
    "    The individual most likely has Bronchitis (increased by a slight margin) and again second best option being none of them.\n",
    "    \n",
    "Here are the probabilities,    \n",
    "    Tuberculosis = 0.00055  ,   \n",
    "    LungCancer = 0.00069  ,\n",
    "    Bronchitis = 0.78     ,\n",
    "    None = 0.22 \n",
    "</span>"
   ]
  },
  {
   "cell_type": "markdown",
   "metadata": {},
   "source": [
    "7.  On the basis of this information, should you seek medical attention?"
   ]
  },
  {
   "cell_type": "markdown",
   "metadata": {},
   "source": [
    "<span style=\"color:red\">\n",
    "Yes, the individual likely has Bronchitis. It is better to seek medical attention.\n",
    "</span>"
   ]
  },
  {
   "cell_type": "code",
   "execution_count": null,
   "metadata": {},
   "outputs": [],
   "source": []
  }
 ],
 "metadata": {
  "kernelspec": {
   "display_name": "Python 3",
   "language": "python",
   "name": "python3"
  },
  "language_info": {
   "codemirror_mode": {
    "name": "ipython",
    "version": 3
   },
   "file_extension": ".py",
   "mimetype": "text/x-python",
   "name": "python",
   "nbconvert_exporter": "python",
   "pygments_lexer": "ipython3",
   "version": "3.7.9"
  }
 },
 "nbformat": 4,
 "nbformat_minor": 2
}
