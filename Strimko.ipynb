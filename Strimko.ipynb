{
 "cells": [
  {
   "cell_type": "markdown",
   "metadata": {},
   "source": [
    "### Strimko by Constraint Sovling\n",
    "### Instructions for Handing In\n",
    "\n",
    "Your handed-in notebook should contain exactly two cells\n",
    "1.  A single markdown cell at the beginning of the notebook, with your name\n",
    "1.  A single code cell containing your function definition for solveStrimko\n"
   ]
  },
  {
   "cell_type": "markdown",
   "metadata": {},
   "source": [
    "####  Strimko Solution\n",
    "\n",
    "<span style=\"color:red\">Kanakam Sai Lavanya</span>"
   ]
  },
  {
   "cell_type": "markdown",
   "metadata": {},
   "source": [
    "##### Strimko Problem Definition\n",
    "\n",
    "Input\n",
    "1.  Initial assignments -- an NxN array.  Every entry in the array must be a positive integer between 1 and N, or 0.  A positive value is the initial value for that row and column.  A zero means the (row, column) begins unassigned.  Initial assignments must respect the game rules: the same value must not appear in the same row, column, or chain\n",
    "2.  Chains -- a list of length at most N.  Each entry in the list is a list of (row, column) tuples defining a chain (a set of positions that are adjacent, and must not contain the same value. An pair (r,c) in the chains list corresponds to an index in the initial and solution array:   `initial[row][column]` \n",
    "\n",
    "Output\n",
    "1.  Solution board:  an NxN array where every (row, column) is assigned a value between 1 and N inclusive, and the assignment must satisfy row, column, and chain constraints"
   ]
  },
  {
   "cell_type": "code",
   "execution_count": 6,
   "metadata": {},
   "outputs": [],
   "source": [
    "# Function accepts:\n",
    "#   initialAssignments and chains as defined above\n",
    "#\n",
    "# returns:  solutionBoard as defined above\n",
    "# Your function may assume that initialAssignments and chains argument are correct\n",
    "\n",
    "import copy\n",
    "from constraint import *\n",
    "\n",
    "def solveStrimko(initialAssignments, chains):\n",
    "    p = Problem()\n",
    "        \n",
    "    for x in range(len(initialAssignments)):\n",
    "        for y in range(len(initialAssignments[0])):\n",
    "            if initialAssignments[x][y] == 0:\n",
    "                p.addVariable((x, y), [*range(1, len(initialAssignments) + 1)])\n",
    "            else:\n",
    "                p.addVariable((x, y), [initialAssignments[x][y]])\n",
    "        \n",
    "    for x in range(len(initialAssignments)):\n",
    "        row = []\n",
    "        col = []\n",
    "        for y in range(len(initialAssignments[0])):\n",
    "            row.append((x, y))\n",
    "            col.append((y, x))\n",
    "        p.addConstraint(AllDifferentConstraint(), row)\n",
    "        p.addConstraint(AllDifferentConstraint(), col)\n",
    "        \n",
    "    for i in range(len(chains)):\n",
    "        p.addConstraint(AllDifferentConstraint(), chains[i])\n",
    "        \n",
    "    solutions = p.getSolutions()\n",
    "    \n",
    "    if not solutions:\n",
    "        return []\n",
    "    \n",
    "    solutionBoards = []\n",
    "    for solution in solutions:\n",
    "        solutionBoard = copy.deepcopy(initialAssignments)\n",
    "        for xy in solution:\n",
    "            solutionBoard[xy[0]][xy[1]] = solution[xy]\n",
    "        solutionBoards.append(solutionBoard)\n",
    "    \n",
    "    return solutionBoards "
   ]
  }
 ],
 "metadata": {
  "kernelspec": {
   "display_name": "Python 3",
   "language": "python",
   "name": "python3"
  },
  "language_info": {
   "codemirror_mode": {
    "name": "ipython",
    "version": 3
   },
   "file_extension": ".py",
   "mimetype": "text/x-python",
   "name": "python",
   "nbconvert_exporter": "python",
   "pygments_lexer": "ipython3",
   "version": "3.7.9"
  }
 },
 "nbformat": 4,
 "nbformat_minor": 2
}
