{
 "cells": [
  {
   "cell_type": "markdown",
   "metadata": {},
   "source": [
    "#### Question 2 -- Pancake Sort\n",
    "\n",
    "Here is some template information for handing in your pancake sort solution.\n",
    "\n",
    "We will review and test your solution by\n",
    "1.  Putting test code at the end of the notebook\n",
    "1.  Restart kernel & run all\n",
    "\n",
    "This notebook must run from beginning to end without error, and must not produce any code output.\n"
   ]
  },
  {
   "cell_type": "code",
   "execution_count": 2,
   "metadata": {},
   "outputs": [],
   "source": [
    "# Do not change this cell -- you may assume that the search framework and client interface\n",
    "# files will be in the same directory as this notebook\n",
    "\n",
    "from searchFramework import aStarSearch\n",
    "from searchClientInterface import WorldState"
   ]
  },
  {
   "cell_type": "code",
   "execution_count": 2,
   "metadata": {},
   "outputs": [],
   "source": [
    "#  All of your code for pancake sort -- except the heuristic -- goes in this cell\n",
    "\n",
    "# inputArray: an array of integers\n",
    "# strategy:  either \"bfs\" or \"dfs\" if you implemented a heuristic, it will go below\n",
    "# verbose and limit:  sent to aStarSearch function\n",
    "#\n",
    "# returns:  (listOfFlipActions, stats)\n",
    "#   where stats is the stats tuple returned by aStarSearch\n",
    "\n",
    "import copy\n",
    "from searchClientInterface import Problem\n",
    "from searchClientInterface import BFSEvaluator, DFSEvaluator\n",
    "\n",
    "class PancakeSortWorldState(WorldState):\n",
    "    def __init__(self, inputArray):\n",
    "        self._inputArray = inputArray\n",
    "        self._flipOperations = []\n",
    "        \n",
    "    def __str__(self):\n",
    "        return \"{\" + str(self._inputArray) + \"} and {\" + str(self._flipOperations) + \"}\"\n",
    "    \n",
    "    def __eq__(self, other):\n",
    "        if isinstance(other, PancakeSortWorldState):\n",
    "            return self._inputArray == other._inputArray\n",
    "        \n",
    "    def __hash__(self):\n",
    "        return hash(str(self._inputArray))\n",
    "    \n",
    "    def successors(self):\n",
    "        succ = []\n",
    "        for flip in range(1, len(self._inputArray)):\n",
    "            c = self.flippedCandidate(flip)\n",
    "            succ.append((c, 'flip_' + str(flip)))\n",
    "            \n",
    "        return succ\n",
    "            \n",
    "    def flippedCandidate(self, flip):\n",
    "        s = copy.deepcopy(self)\n",
    "        s._inputArray[0:(flip+1)] = s._inputArray[0:(flip+1)][::-1]\n",
    "        s._flipOperations.append('flip_' + str(flip))\n",
    "        \n",
    "        return s\n",
    "    \n",
    "    def isSolution(self):\n",
    "        return all(self._inputArray[i] <= self._inputArray[i+1] for i in range(len(self._inputArray)-1))\n",
    "        \n",
    "class PancakeSortProblem(Problem):\n",
    "    def __init__(self, inputArray):\n",
    "        self._state = PancakeSortWorldState(inputArray)\n",
    "        \n",
    "    def initial(self):\n",
    "        return self._state\n",
    "    \n",
    "    def isGoal(self, state):\n",
    "        return state.isSolution()\n",
    "    \n",
    "\n",
    "def solvePancakeSort(inputArray, strategy=\"bfs\", verbose=None, limit=None):\n",
    "    evaluator = BFSEvaluator() if strategy == \"bfs\" else DFSEvaluator()\n",
    "    return aStarSearch(PancakeSortProblem(inputArray), evaluator, verbose, limit)"
   ]
  }
 ],
 "metadata": {
  "kernelspec": {
   "display_name": "Python 3",
   "language": "python",
   "name": "python3"
  },
  "language_info": {
   "codemirror_mode": {
    "name": "ipython",
    "version": 3
   },
   "file_extension": ".py",
   "mimetype": "text/x-python",
   "name": "python",
   "nbconvert_exporter": "python",
   "pygments_lexer": "ipython3",
   "version": "3.8.3"
  }
 },
 "nbformat": 4,
 "nbformat_minor": 2
}
